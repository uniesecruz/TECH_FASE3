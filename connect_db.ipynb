{
 "cells": [
  {
   "cell_type": "code",
   "execution_count": 3,
   "metadata": {},
   "outputs": [
    {
     "name": "stdout",
     "output_type": "stream",
     "text": [
      "['SQL Server', 'SQL Server Native Client RDA 11.0', 'PostgreSQL ANSI(x64)', 'PostgreSQL Unicode(x64)', 'SQLite3 ODBC Driver', 'SQLite ODBC Driver', 'SQLite ODBC (UTF-8) Driver', 'Microsoft Access Driver (*.mdb, *.accdb)', 'Microsoft Excel Driver (*.xls, *.xlsx, *.xlsm, *.xlsb)', 'Microsoft Access Text Driver (*.txt, *.csv)', 'Microsoft Access dBASE Driver (*.dbf, *.ndx, *.mdx)', 'ODBC Driver 17 for SQL Server']\n"
     ]
    }
   ],
   "source": [
    "import pyodbc\n",
    "print(pyodbc.drivers())\n"
   ]
  },
  {
   "cell_type": "code",
   "execution_count": 14,
   "metadata": {},
   "outputs": [
    {
     "name": "stdout",
     "output_type": "stream",
     "text": [
      "   id    nome  idade             email\n",
      "0   1     Ana     25     ana@email.com\n",
      "1   2   Bruno     30   bruno@email.com\n",
      "2   3  Carlos     22  carlos@email.com\n"
     ]
    },
    {
     "name": "stderr",
     "output_type": "stream",
     "text": [
      "C:\\Users\\Sergio\\AppData\\Local\\Temp\\ipykernel_12108\\2196682416.py:12: UserWarning: pandas only supports SQLAlchemy connectable (engine/connection) or database string URI or sqlite3 DBAPI2 connection. Other DBAPI2 objects are not tested. Please consider using SQLAlchemy.\n",
      "  df = pd.read_sql_query(\"SELECT * FROM dbo.pessoas\", conn)\n"
     ]
    }
   ],
   "source": [
    "import pandas as pd\n",
    "import pyodbc\n",
    "\n",
    "conn = pyodbc.connect(\"\"\"\n",
    "    DRIVER={ODBC Driver 17 for SQL Server};\n",
    "    SERVER=DESKTOP-H24E0EB;\n",
    "    DATABASE=MLE;\n",
    "    Trusted_Connection=yes;\n",
    "    TrustServerCertificate=yes;\n",
    "\"\"\")\n",
    "\n",
    "df = pd.read_sql_query(\"SELECT * FROM dbo.pessoas\", conn)\n",
    "print(df.head())\n"
   ]
  },
  {
   "cell_type": "code",
   "execution_count": 15,
   "metadata": {},
   "outputs": [
    {
     "name": "stdout",
     "output_type": "stream",
     "text": [
      "   id    nome  idade             email\n",
      "0   1     Ana     25     ana@email.com\n",
      "1   2   Bruno     30   bruno@email.com\n",
      "2   3  Carlos     22  carlos@email.com\n"
     ]
    }
   ],
   "source": [
    "import pandas as pd\n",
    "from sqlalchemy import create_engine\n",
    "from urllib.parse import quote_plus\n",
    "\n",
    "# Dados da conexão\n",
    "server = 'DESKTOP-H24E0EB'\n",
    "database = 'MLE'\n",
    "driver = 'ODBC Driver 17 for SQL Server'\n",
    "\n",
    "# Se usa autenticação do Windows:\n",
    "connection_string = f\"mssql+pyodbc://@{server}/{database}?driver={driver.replace(' ', '+')}&Trusted_Connection=yes&TrustServerCertificate=yes\"\n",
    "\n",
    "# Criar engine SQLAlchemy\n",
    "engine = create_engine(connection_string)\n",
    "\n",
    "# Agora funciona com pandas\n",
    "df = pd.read_sql(\"SELECT * FROM dbo.pessoas\", engine)\n",
    "print(df.head())\n"
   ]
  },
  {
   "cell_type": "code",
   "execution_count": 17,
   "metadata": {},
   "outputs": [
    {
     "name": "stdout",
     "output_type": "stream",
     "text": [
      "✅ CSV enviado com sucesso para a tabela 'MLE_teste' no SQL Server!\n"
     ]
    }
   ],
   "source": [
    "import pandas as pd\n",
    "from sqlalchemy import create_engine\n",
    "from urllib.parse import quote_plus\n",
    "\n",
    "# === 1. Lê o arquivo CSV ===\n",
    "df = pd.read_csv('df_teste_10.csv')\n",
    "\n",
    "# === 2. Parâmetros da conexão SQL Server ===\n",
    "server = 'DESKTOP-H24E0EB'\n",
    "database = 'MLE'\n",
    "driver = 'ODBC Driver 17 for SQL Server'\n",
    "\n",
    "# Conexão com autenticação do Windows\n",
    "connection_string = (\n",
    "    f\"mssql+pyodbc://@{server}/{database}\"\n",
    "    f\"?driver={driver.replace(' ', '+')}\"\n",
    "    f\"&Trusted_Connection=yes&TrustServerCertificate=yes\"\n",
    ")\n",
    "\n",
    "# === 3. Criar engine SQLAlchemy ===\n",
    "engine = create_engine(connection_string)\n",
    "\n",
    "# === 4. Enviar dados para tabela chamada 'MLE_teste'\n",
    "df.to_sql('MLE_teste', con=engine, if_exists='replace', index=False)\n",
    "\n",
    "print(\"✅ CSV enviado com sucesso para a tabela 'MLE_teste' no SQL Server!\")\n"
   ]
  },
  {
   "cell_type": "code",
   "execution_count": null,
   "metadata": {},
   "outputs": [],
   "source": []
  }
 ],
 "metadata": {
  "kernelspec": {
   "display_name": "venv",
   "language": "python",
   "name": "python3"
  },
  "language_info": {
   "codemirror_mode": {
    "name": "ipython",
    "version": 3
   },
   "file_extension": ".py",
   "mimetype": "text/x-python",
   "name": "python",
   "nbconvert_exporter": "python",
   "pygments_lexer": "ipython3",
   "version": "3.9.12"
  }
 },
 "nbformat": 4,
 "nbformat_minor": 2
}
